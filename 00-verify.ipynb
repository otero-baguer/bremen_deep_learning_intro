{
 "cells": [
  {
   "cell_type": "markdown",
   "metadata": {
    "colab_type": "text",
    "id": "dKUm7A3EDuQV"
   },
   "source": [
    "# Verification code for the course\n",
    "\n",
    "This notebook will help you verify that everything works properly. **If you are using a local installation you should skip the first 3 cells**.\n",
    "\n",
    "## Google Colab\n",
    "\n",
    "Connect from here to your google drive using the next code (you'll be asked for authorization code, just follow the instructions after running the code)"
   ]
  },
  {
   "cell_type": "code",
   "execution_count": null,
   "metadata": {
    "colab": {},
    "colab_type": "code",
    "id": "TsAyfcMiMA0y"
   },
   "outputs": [],
   "source": [
    "from google.colab import drive\n",
    "drive.mount('/content/gdrive')"
   ]
  },
  {
   "cell_type": "code",
   "execution_count": null,
   "metadata": {
    "colab": {},
    "colab_type": "code",
    "id": "uMXDAH3ANHcU"
   },
   "outputs": [],
   "source": [
    "# this should print all folders in your google drive main folder\n",
    "!ls \"/content/gdrive/My Drive/\""
   ]
  },
  {
   "cell_type": "markdown",
   "metadata": {
    "colab_type": "text",
    "id": "rWy7rbhiGNMS"
   },
   "source": [
    "### Set the path to the data folder in your Google Drive"
   ]
  },
  {
   "cell_type": "code",
   "execution_count": null,
   "metadata": {
    "colab": {},
    "colab_type": "code",
    "id": "QSPTQtT7NL8p"
   },
   "outputs": [],
   "source": [
    "# if you are using Google Colab set the folder \"deep_learning_intro\" in your Drive to store the data of the course\n",
    "data_dir = \"/content/gdrive/My Drive/deep_learning_intro\"\n",
    "\n",
    "# if you are using a local installation set the folder \"data\".\n",
    "# data_dir = \"/data\""
   ]
  },
  {
   "cell_type": "markdown",
   "metadata": {
    "colab_type": "text",
    "id": "vslBGE48FEG8"
   },
   "source": [
    "## Downloading datasets (MNIST and CIFAR10)\n",
    "\n",
    "The next cell would download MNIST and CIFAR10 datasets into your folder that you created.\n",
    "If all goes well you should see some images from both dataset when it finished running."
   ]
  },
  {
   "cell_type": "code",
   "execution_count": null,
   "metadata": {
    "colab": {},
    "colab_type": "code",
    "id": "HqHaJTW0CyBk"
   },
   "outputs": [],
   "source": [
    "import torch\n",
    "import torchvision.transforms as transforms\n",
    "import torchvision.datasets as datasets\n",
    "from torchvision.utils import save_image, make_grid\n",
    "import matplotlib.pyplot as plt\n",
    "\n",
    "# get MNIST and CIFAR10 datasets\n",
    "transform = transforms.ToTensor()\n",
    "mnist_test = datasets.MNIST(data_dir, train=False, download=True, transform=transform)\n",
    "mnist_test_loader = torch.utils.data.DataLoader(mnist_test, batch_size=16, shuffle=False, pin_memory=True)\n",
    "cifar_test = datasets.CIFAR10(data_dir, train=False, download=True, transform=transforms.Compose([transforms.ToTensor()]))\n",
    "cifar_test_loader = torch.utils.data.DataLoader(cifar_test, batch_size=16, shuffle=False, pin_memory=True)\n",
    "\n",
    "sz = 7\n",
    "\n",
    "# plot some mnist test samples\n",
    "X, y = next(iter(mnist_test_loader))\n",
    "plt.figure(figsize=(sz,sz))\n",
    "plt.imshow(make_grid(X, nrow=4, padding=1).detach().permute(1,2,0))\n",
    "plt.axis('off')\n",
    "\n",
    "# plot some cifar10 test samples\n",
    "X, y = next(iter(cifar_test_loader))\n",
    "plt.figure(figsize=(sz,sz))\n",
    "plt.imshow(make_grid(X, nrow=4, padding=1).detach().permute(1,2,0))\n",
    "plt.axis('off')"
   ]
  },
  {
   "cell_type": "markdown",
   "metadata": {
    "colab_type": "text",
    "id": "YEYfy_qMFTin"
   },
   "source": [
    "## Downloading some trained models\n",
    "\n",
    "The next cell would download some models that we are going to use."
   ]
  },
  {
   "cell_type": "code",
   "execution_count": null,
   "metadata": {
    "colab": {},
    "colab_type": "code",
    "id": "OmdcgKb2Rb8I"
   },
   "outputs": [],
   "source": [
    "import torchvision.models as models\n",
    "import os\n",
    "\n",
    "os.environ['TORCH_HOME'] = data_dir\n",
    "\n",
    "# get some models ready for future use\n",
    "model = models.vgg19(pretrained=True)\n",
    "model = models.vgg16(pretrained=True)\n",
    "model = models.resnet152(pretrained=True)\n",
    "model = models.resnet50(pretrained=True)\n",
    "model = models.resnet18(pretrained=True)\n",
    "\n",
    "\n",
    "print('>>>>>>>>>> This should show some numbers:')\n",
    "print(model(X).max(dim=1)[1])"
   ]
  },
  {
   "cell_type": "markdown",
   "metadata": {
    "colab_type": "text",
    "id": "Vq5yJokvFsE1"
   },
   "source": [
    "## Connecting to GPU\n",
    "\n",
    "Next we will connect to the GPU.\n",
    "\n",
    "If you are using Google Colab: Go to Edit/Netbook settings. Under \"Hardware accelerator\" choose GPU.\n",
    "**If you are running this locally and you don't have a GPU, you should skip this cell.**\n",
    "\n",
    "The next cell should verify that you can run models in the GPU."
   ]
  },
  {
   "cell_type": "code",
   "execution_count": null,
   "metadata": {
    "colab": {},
    "colab_type": "code",
    "id": "qEo0AmTQFw9o"
   },
   "outputs": [],
   "source": [
    "# Check that GPU is connected\n",
    "dc = torch.cuda.device_count()\n",
    "if dc > 0:\n",
    "    print('>>>>>>>>>> Found', dc, 'GPU devices.')\n",
    "else:\n",
    "    print(\">>>>>>>>>> Couldn't find GPU device.\")\n",
    "\n",
    "\n",
    "# check that you can run the model on the GPU\n",
    "model.cuda()\n",
    "model.eval()\n",
    "X, y = next(iter(cifar_test_loader))\n",
    "X = X.cuda()\n",
    "print('>>>>>>>>>> This should show some numbers:', model(X).max(dim=1)[1])"
   ]
  }
 ],
 "metadata": {
  "accelerator": "GPU",
  "colab": {
   "collapsed_sections": [],
   "name": "dl_verify",
   "private_outputs": true,
   "provenance": []
  },
  "kernelspec": {
   "display_name": "Python 3",
   "language": "python",
   "name": "python3"
  },
  "language_info": {
   "codemirror_mode": {
    "name": "ipython",
    "version": 3
   },
   "file_extension": ".py",
   "mimetype": "text/x-python",
   "name": "python",
   "nbconvert_exporter": "python",
   "pygments_lexer": "ipython3",
   "version": "3.7.4"
  }
 },
 "nbformat": 4,
 "nbformat_minor": 1
}
