{
  "nbformat": 4,
  "nbformat_minor": 0,
  "metadata": {
    "colab": {
      "name": "romsoc_hands_on_2_solution",
      "provenance": [],
      "collapsed_sections": []
    },
    "kernelspec": {
      "name": "python3",
      "display_name": "Python 3"
    }
  },
  "cells": [
    {
      "cell_type": "markdown",
      "metadata": {
        "id": "3MuKBrPdbB0b",
        "colab_type": "text"
      },
      "source": [
        "# Hands-On Session No. 2\n",
        "## (linear layer implementation and logistic regression)\n"
      ]
    },
    {
      "cell_type": "code",
      "metadata": {
        "id": "5ZxgJ3YVffj3",
        "colab_type": "code",
        "colab": {}
      },
      "source": [
        "import torch\n",
        "import torch.nn as nn\n",
        "import matplotlib.pyplot as plt\n",
        "import numpy as np\n",
        "\n",
        "device = 'cuda' if torch.cuda.is_available() else 'cpu'"
      ],
      "execution_count": 0,
      "outputs": []
    },
    {
      "cell_type": "markdown",
      "metadata": {
        "id": "72dWYuJx1_SV",
        "colab_type": "text"
      },
      "source": [
        "## Prepare Data"
      ]
    },
    {
      "cell_type": "markdown",
      "metadata": {
        "id": "uOQxYghr4cVR",
        "colab_type": "text"
      },
      "source": [
        "***The batch dimension.*** Usually, the dimensions of tensors are:\n",
        "First dimension is the batch (\"index\" of the sample), then following dimensions are for features. E.g.:\n",
        "\n",
        "N x D: N samples, each with D features (i.e. N vectors)\n",
        "\n",
        "N x H x W: N samples, each a 2D \"image\" of size HxW\n",
        "\n",
        "In the case of images it is very common to have a \"channel\" dimension, e.g.:\n",
        "\n",
        "N x C X H x W: N samples, each a 2D image with C channels. C is most commonly 1 (grayscale image) or 3 (RGB image).\n",
        "\n",
        "(In this exercise will use NxD tensors)"
      ]
    },
    {
      "cell_type": "code",
      "metadata": {
        "id": "iZlS0LZD1_cb",
        "colab_type": "code",
        "outputId": "abb4c2d9-1b94-436b-ebf9-c3725cdef7f1",
        "colab": {
          "base_uri": "https://localhost:8080/",
          "height": 432
        }
      },
      "source": [
        "N = torch.tensor(100)\n",
        "Nhalf = int(N/2)\n",
        "D = 2\n",
        "\n",
        "# create linearly separable samples\n",
        "X1 = 0.1 * torch.randn(Nhalf, D) + torch.tensor([1., 1.])\n",
        "X2 = 0.5 * torch.randn(N - Nhalf, D)  \n",
        "X = torch.cat([X1, X2])\n",
        "\n",
        "# plot data\n",
        "plt.figure(figsize=(7,7))\n",
        "plt.plot(X[:X1.shape[0], 0].numpy(), X[:X1.shape[0], 1].numpy(), '.r')\n",
        "plt.plot(X[X1.shape[0]:, 0].numpy(), X[X1.shape[0]:, 1].numpy(), '.b')\n",
        "plt.axhline(y=0, color='k')\n",
        "plt.axvline(x=0, color='k')\n",
        "plt.gca().set_aspect('equal', adjustable='box')\n",
        "\n",
        "# set labels\n",
        "y = torch.ones(N).long()\n",
        "y[:X1.shape[0]] = 0"
      ],
      "execution_count": 0,
      "outputs": [
        {
          "output_type": "display_data",
          "data": {
            "image/png": "[encoded data removed]",
            "text/plain": [
              "<Figure size 504x504 with 1 Axes>"
            ]
          },
          "metadata": {
            "tags": []
          }
        }
      ]
    },
    {
      "cell_type": "markdown",
      "metadata": {
        "id": "7bOOBsUGZx8x",
        "colab_type": "text"
      },
      "source": [
        "## Implement a full forward backward Linear layer\n",
        "\n"
      ]
    },
    {
      "cell_type": "code",
      "metadata": {
        "id": "tpwC0vldZyaP",
        "colab_type": "code",
        "colab": {}
      },
      "source": [
        "# For debugging, put this where you want a breakpoint\n",
        "# import pdb; pdb.set_trace()    \n",
        "# To exit breakpoint write 'exit'\n",
        "\n",
        "class MyLinear(torch.autograd.Function):  \n",
        "  @staticmethod\n",
        "  def forward(ctx, x, w, b):\n",
        "    \"\"\"\n",
        "    @param ctx: a context object, where we can save cache (e.g. tensors) for\n",
        "    later use in the backward part\n",
        "    @param x, w, b: layer's input, weights, bias respectively\n",
        "    forward function returns the output of the layer\n",
        "    \"\"\"\n",
        "    # implement the forward part of the layer, that is the output, and \n",
        "    # save in ctx whatever you would need for the backward pass\n",
        "    out = x.matmul(w) + b    \n",
        "    ctx.save_for_backward(x, w, b)\n",
        "    return out\n",
        "\n",
        "  @staticmethod\n",
        "  def backward(ctx, grad_output):\n",
        "    \"\"\"\n",
        "    @param ctx: context object similar to forward pass (with what you saved)\n",
        "    @param grad_output: a tensor containing the gradient of the loss function\n",
        "    with respect to the layer's output.\n",
        "    \n",
        "    backward function returns the gradient of the loss w.r.t to each of the\n",
        "    layer's inputs. you must compute and return it for each input to forward.\n",
        "    \"\"\"\n",
        "    x, w, b = ctx.saved_tensors\n",
        "#     import pdb; pdb.set_trace()    \n",
        "\n",
        "    dx = grad_output.matmul(w.t())\n",
        "    dw = x.t().matmul(grad_output)\n",
        "    db = grad_output.sum(dim=0)\n",
        "    \n",
        "    return dx, dw, db\n"
      ],
      "execution_count": 0,
      "outputs": []
    },
    {
      "cell_type": "code",
      "metadata": {
        "id": "CrIbjEOGdrmq",
        "colab_type": "code",
        "colab": {}
      },
      "source": [
        "# number of outputs. For logistic regression we will use one output.\n",
        "K = 1\n",
        "\n",
        "# initialize parameters w and b\n",
        "w = torch.ones(D, K, requires_grad=True, device=device)\n",
        "b = torch.zeros(K, requires_grad=True, device=device)\n",
        "\n",
        "# initialize the network\n",
        "lin = MyLinear()\n",
        "\n",
        "# check gradients\n",
        "from torch.autograd import gradcheck\n",
        "X_check = X.clone().double().requires_grad_(True)\n",
        "w_check = w.clone().double().requires_grad_(True)\n",
        "b_check = b.clone().double().requires_grad_(True)\n",
        "f = lin.apply\n",
        "gradcheck(f, (X_check,w_check,b_check))\n",
        "\n",
        "# check everything end to end\n",
        "out = lin.apply(X, w, b).sigmoid()\n",
        "loss = torch.nn.BCELoss()(out, y.float().unsqueeze(-1))\n",
        "loss.backward()\n",
        "print(loss)"
      ],
      "execution_count": 0,
      "outputs": []
    },
    {
      "cell_type": "markdown",
      "metadata": {
        "id": "WJryQ7f5R5-f",
        "colab_type": "text"
      },
      "source": [
        "## Train a linear model"
      ]
    },
    {
      "cell_type": "code",
      "metadata": {
        "id": "SHR35zXxR5Kc",
        "colab_type": "code",
        "colab": {}
      },
      "source": [
        "# General Parameters\n",
        "nepochs = 100\n",
        "lr = 10\n",
        "K = 1\n",
        "print_every = 10\n",
        "#####################\n",
        "\n",
        "# Initialize paraneters\n",
        "torch.manual_seed(0)\n",
        "w = torch.ones(D, K, requires_grad=True, device=device)\n",
        "b = torch.zeros(K, requires_grad=True, device=device)\n",
        "lin = MyLinear()\n",
        "\n",
        "def zero_grad(w):\n",
        "  if hasattr(w, 'grad'):\n",
        "    if w.grad is not None:\n",
        "      w.grad.zero_()\n",
        "  \n",
        "# Train model\n",
        "for t in range(nepochs):\n",
        "  out = lin.apply(X, w, b).sigmoid()\n",
        "  loss = torch.nn.BCELoss()(out, y.float().unsqueeze(-1))\n",
        "\n",
        "  if t % print_every == 0:\n",
        "    print(t, 'loss:', loss.item())\n",
        "  \n",
        "  # compute gradients to parameters\n",
        "  zero_grad(w)\n",
        "  zero_grad(b)  \n",
        "  loss.backward()\n",
        "  \n",
        "  # Update parameters\n",
        "  w.data = w.data - lr * w.grad.data\n",
        "  b.data = b.data - lr * b.grad.data\n",
        "\n",
        "print(t, 'loss:', loss.item())"
      ],
      "execution_count": 0,
      "outputs": []
    },
    {
      "cell_type": "markdown",
      "metadata": {
        "id": "LzaUbch0uuEA",
        "colab_type": "text"
      },
      "source": [
        "## Verify correctness of solution"
      ]
    },
    {
      "cell_type": "code",
      "metadata": {
        "id": "RwDoMenjjiP0",
        "colab_type": "code",
        "outputId": "6f44a967-c3ed-455a-eee7-79fdca933edb",
        "colab": {
          "base_uri": "https://localhost:8080/",
          "height": 432
        }
      },
      "source": [
        "# plot data\n",
        "plt.figure(figsize=(7,7))\n",
        "plt.plot(X[:X1.shape[0], 0].numpy(), X[:X1.shape[0], 1].numpy(), '.r')\n",
        "plt.plot(X[X1.shape[0]:, 0].numpy(), X[X1.shape[0]:, 1].numpy(), '.b')\n",
        "plt.axhline(y=0, color='k')\n",
        "plt.axvline(x=0, color='k')\n",
        "\n",
        "xmin = X[:, 0].min()\n",
        "xmax = X[:, 0].max()\n",
        "ymin = (-b - w[0] * xmin) / w[1]\n",
        "ymax = (-b - w[0] * xmax) / w[1]\n",
        "plt.plot([xmin, xmax], [ymin, ymax], 'g')\n",
        "plt.gca().set_aspect('equal', adjustable='box')\n"
      ],
      "execution_count": 0,
      "outputs": [
        {
          "output_type": "display_data",
          "data": {
            "image/png": "[encoded data removed]",
            "text/plain": [
              "<Figure size 504x504 with 1 Axes>"
            ]
          },
          "metadata": {
            "tags": []
          }
        }
      ]
    },
    {
      "cell_type": "markdown",
      "metadata": {
        "id": "yHkVsuFDPFuD",
        "colab_type": "text"
      },
      "source": [
        "## Now use pytorch.nn do it for you"
      ]
    },
    {
      "cell_type": "code",
      "metadata": {
        "id": "91WGx4PUAoMV",
        "colab_type": "code",
        "outputId": "3da4b311-3e70-4406-8a80-a0a411bd3590",
        "colab": {
          "base_uri": "https://localhost:8080/",
          "height": 544
        }
      },
      "source": [
        "# General Parameters\n",
        "nepochs = 300\n",
        "lr = 10\n",
        "K = 1\n",
        "print_every = 10\n",
        "#####################\n",
        "\n",
        "# Initialize paraneters\n",
        "torch.manual_seed(0)\n",
        "lin = nn.Linear(D, K) # Changed\n",
        "\n",
        "# you would have to define your chosen optimizer\n",
        "optimizer = torch.optim.SGD(lin.parameters(), lr=lr)\n",
        "\n",
        "def zero_grad(w):\n",
        "  if hasattr(w, 'grad'):\n",
        "    if w.grad is not None:\n",
        "      w.grad.zero_()\n",
        "  \n",
        "# Train model\n",
        "for t in range(nepochs):\n",
        "  out = lin(X).sigmoid() # Changed\n",
        "  loss = torch.nn.BCELoss()(out, y.float().unsqueeze(-1))\n",
        "\n",
        "  if t % print_every == 0:\n",
        "    print(t, 'loss:', loss.item())\n",
        "  \n",
        "  # compute gradients to parameters\n",
        "  lin.zero_grad() # Changed\n",
        "  loss.backward()\n",
        "     \n",
        "  # update parameters  # Changed\n",
        "  optimizer.step()\n",
        "  \n",
        "\n",
        "print(t, 'loss:', loss.item())"
      ],
      "execution_count": 0,
      "outputs": [
        {
          "output_type": "stream",
          "text": [
            "0 loss: 0.7944194078445435\n",
            "10 loss: 0.19436116516590118\n",
            "20 loss: 0.17064303159713745\n",
            "30 loss: 0.1639321744441986\n",
            "40 loss: 0.16016586124897003\n",
            "50 loss: 0.15781308710575104\n",
            "60 loss: 0.156243234872818\n",
            "70 loss: 0.1551475077867508\n",
            "80 loss: 0.15435728430747986\n",
            "90 loss: 0.15377295017242432\n",
            "100 loss: 0.15333245694637299\n",
            "110 loss: 0.15299509465694427\n",
            "120 loss: 0.15273341536521912\n",
            "130 loss: 0.15252824127674103\n",
            "140 loss: 0.15236598253250122\n",
            "150 loss: 0.15223658084869385\n",
            "160 loss: 0.15213283896446228\n",
            "170 loss: 0.15204904973506927\n",
            "180 loss: 0.1519812047481537\n",
            "190 loss: 0.15192589163780212\n",
            "200 loss: 0.15188068151474\n",
            "210 loss: 0.1518436074256897\n",
            "220 loss: 0.15181313455104828\n",
            "230 loss: 0.15178795158863068\n",
            "240 loss: 0.15176714956760406\n",
            "250 loss: 0.15174990892410278\n",
            "260 loss: 0.15173563361167908\n",
            "270 loss: 0.151723712682724\n",
            "280 loss: 0.15171381831169128\n",
            "290 loss: 0.1517055630683899\n",
            "299 loss: 0.15169928967952728\n"
          ],
          "name": "stdout"
        }
      ]
    },
    {
      "cell_type": "markdown",
      "metadata": {
        "id": "lgIh6ivMLffi",
        "colab_type": "text"
      },
      "source": [
        "## More Questions\n",
        "\n",
        "1. Did you manage to converge to zero loss? If not, why?\n",
        "2. Change data points to overlap (change sigmas and/or means). Try to converge. Did you converge to zero loss? why did you manage (or didn't)?"
      ]
    }
  ]
}